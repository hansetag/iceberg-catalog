{
 "cells": [
  {
   "cell_type": "code",
   "execution_count": null,
   "metadata": {},
   "outputs": [],
   "source": [
    "!pip install -q starrocks \"sqlalchemy<3.0\""
   ]
  },
  {
   "cell_type": "code",
   "execution_count": null,
   "metadata": {},
   "outputs": [],
   "source": [
    "# This CATALOG_URL works for the \"docker compose\" testing and development environment\n",
    "# Change 'server' if you are not running on \"docker compose\" (f. ex. 'localhost' if Lakekeeper is running locally).\n",
    "CATALOG_URL = \"http://server:8080/catalog\"\n",
    "\n",
    "STARROCKS_URI = \"starrocks://root@starrocks:9030\"\n",
    "\n",
    "# In the provided \"docker compose\" testing and development environment,\n",
    "# this warehouse already exists.\n",
    "# See USER_GUIDE.MD and STORAGE.MD for configuration examples if you\n",
    "# are running this notebook with your own setup.\n",
    "# There is also an example in 'Multiple Warehouses.ipynb'.\n",
    "WAREHOUSE = \"demo\"\n",
    "CATALOG = \"demo_catalog\"\n",
    "NAMESPACE = \"demo_namespace\""
   ]
  },
  {
   "cell_type": "markdown",
   "metadata": {},
   "source": [
    "# Create Starrocks Catalog"
   ]
  },
  {
   "cell_type": "code",
   "execution_count": null,
   "metadata": {},
   "outputs": [],
   "source": [
    "from sqlalchemy import create_engine\n",
    "\n",
    "engine = create_engine(STARROCKS_URI)\n",
    "connection = engine.connect()\n",
    "connection.execute(\"DROP CATALOG IF EXISTS demo\")"
   ]
  },
  {
   "cell_type": "code",
   "execution_count": null,
   "metadata": {},
   "outputs": [],
   "source": [
    "# Until https://github.com/StarRocks/starrocks/issues/50585#issue-2501162084 is fixed, we have to configure\n",
    "# the credentials locally if we need a custom s3 endpoint.\n",
    "connection.execute(\n",
    "    f\"\"\"\n",
    "    CREATE EXTERNAL CATALOG demo\n",
    "    PROPERTIES\n",
    "    (\n",
    "        \"type\" = \"iceberg\",\n",
    "        \"iceberg.catalog.type\" = \"rest\",\n",
    "        \"iceberg.catalog.uri\" = \"{CATALOG_URL}\",\n",
    "        \"iceberg.catalog.warehouse\" = \"{WAREHOUSE}\",\n",
    "        \"aws.s3.region\" = \"local\",\n",
    "        \"aws.s3.enable_path_style_access\" = \"true\",\n",
    "        \"aws.s3.endpoint\" = \"http://minio:9000\",\n",
    "        \"aws.s3.access_key\" = \"minio-root-user\",\n",
    "        \"aws.s3.secret_key\" = \"minio-root-password\"\n",
    "    )\n",
    "    \"\"\"\n",
    ")\n",
    "connection.execute(\"SET CATALOG demo\")"
   ]
  },
  {
   "cell_type": "markdown",
   "metadata": {},
   "source": [
    "## Read and Write Tables"
   ]
  },
  {
   "cell_type": "code",
   "execution_count": null,
   "metadata": {},
   "outputs": [],
   "source": [
    "connection.execute(\"CREATE DATABASE starrocks_namespace\")\n",
    "connection.execute(\n",
    "    \"CREATE TABLE starrocks_namespace.my_table (my_ints INT, my_floats DOUBLE, strings VARCHAR)\"\n",
    ")\n",
    "connection.execute(\n",
    "    \"INSERT INTO starrocks_namespace.my_table VALUES (1, 1.0, 'a'), (2, 2.0, 'b')\"\n",
    ")\n",
    "connection.execute(\n",
    "    \"SELECT * FROM starrocks_namespace.my_table\",\n",
    ").fetchall()\n"
   ]
  },
  {
   "cell_type": "code",
   "execution_count": null,
   "metadata": {},
   "outputs": [],
   "source": []
  }
 ],
 "metadata": {
  "kernelspec": {
   "display_name": "Python 3 (ipykernel)",
   "language": "python",
   "name": "python3"
  },
  "language_info": {
   "codemirror_mode": {
    "name": "ipython",
    "version": 3
   },
   "file_extension": ".py",
   "mimetype": "text/x-python",
   "name": "python",
   "nbconvert_exporter": "python",
   "pygments_lexer": "ipython3",
   "version": "3.11.9"
  }
 },
 "nbformat": 4,
 "nbformat_minor": 4
}
