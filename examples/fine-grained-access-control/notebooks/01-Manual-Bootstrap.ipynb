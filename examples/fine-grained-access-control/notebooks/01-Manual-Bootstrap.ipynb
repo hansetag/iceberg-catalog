{
 "cells": [
  {
   "cell_type": "code",
   "execution_count": null,
   "metadata": {},
   "outputs": [],
   "source": [
    "!pip install -q pyjwt"
   ]
  },
  {
   "cell_type": "code",
   "execution_count": null,
   "metadata": {},
   "outputs": [],
   "source": [
    "import pyspark\n",
    "from pyspark.conf import SparkConf\n",
    "from pyspark.sql import SparkSession\n",
    "import pandas as pd\n",
    "import requests, jwt\n",
    "\n",
    "CATALOG_URL = \"http://server:8080/catalog\"\n",
    "MANAGEMENT_URL = \"http://server:8080/management\"\n",
    "KEYCLOAK_TOKEN_URL = \"http://keycloak:8080/realms/iceberg/protocol/openid-connect/token\""
   ]
  },
  {
   "cell_type": "markdown",
   "metadata": {},
   "source": [
    "# Bootstraping Lakekeeper\n",
    "Initially, the Lakekeeper needs to be bootstrapped once.\n",
    "During bootstrapping the initial `Global Administrator` is set. Bootstrapping can only be performed once. The first user calling the bootstrap endpoint, will become the `Global Administrator`."
   ]
  },
  {
   "cell_type": "markdown",
   "metadata": {},
   "source": [
    "## 1. Sign in\n",
    "First, we need to obtain a token from our Identity Provider. In this example a `Keycloak` is running as a pod beside Lakekeeper. A few users have been pre-created in Keycloak for this example. We are now logging into Keycloak as the technical user (client) `iceberg-machine-client`. If a human user bootstraps the catalog, we recommend to use the UI.\n",
    "\n",
    "Keycloak can be accessed at http://localhost:30080 in this example. Use `admin` as username and password. Then select the `iceberg` realm on the top left corner."
   ]
  },
  {
   "cell_type": "code",
   "execution_count": null,
   "metadata": {},
   "outputs": [],
   "source": [
    "# Login to Keycloak\n",
    "CLIENT_ID = \"iceberg-machine-client\"\n",
    "CLIENT_SECRET = \"M2HyiuJRJupuOEaCVni2wLDXAf2GZeCi\"\n",
    "\n",
    "response = requests.post(\n",
    "    url=KEYCLOAK_TOKEN_URL,\n",
    "    data={\n",
    "        \"grant_type\": \"client_credentials\",\n",
    "        \"client_id\": CLIENT_ID,\n",
    "        \"client_secret\": CLIENT_SECRET,\n",
    "        # For bootstraping the token must contain something we can use as a user name.\n",
    "        # Especially for human husers this can be achieved with the \"profile\" OIDC scope.\n",
    "        # Scopes might be different depending on your IdP configuration.\n",
    "        \"scope\": \"profile\"\n",
    "    },\n",
    "    headers={\"Content-type\": \"application/x-www-form-urlencoded\"},\n",
    ")\n",
    "response.raise_for_status()\n",
    "access_token = response.json()['access_token']\n",
    "\n",
    "# Lets inspect the token we got to see that our application name is available:\n",
    "jwt.decode(access_token, options={\"verify_signature\": False})"
   ]
  },
  {
   "cell_type": "markdown",
   "metadata": {},
   "source": [
    "Now that we have the access token, we can query the server info Endpoint. \n",
    "On first launch it will show bootstrapped\n",
    "The full API documentation is available as part of the Repository and hosted by Lakekeeper: http://localhost:8080/swagger-ui/#/"
   ]
  },
  {
   "cell_type": "code",
   "execution_count": null,
   "metadata": {},
   "outputs": [],
   "source": [
    "response = requests.get(\n",
    "    url=f\"{MANAGEMENT_URL}/v1/info\",\n",
    "    headers={\"Authorization\": f\"Bearer {access_token}\"},\n",
    ")\n",
    "response.raise_for_status()\n",
    "response.json()\n",
    "# On first launch it shows \"bootstrapped\": False"
   ]
  },
  {
   "cell_type": "markdown",
   "metadata": {},
   "source": [
    "## 2. Bootstrap"
   ]
  },
  {
   "cell_type": "code",
   "execution_count": null,
   "metadata": {},
   "outputs": [],
   "source": [
    "response = requests.post(\n",
    "    url=f\"{MANAGEMENT_URL}/v1/bootstrap\",\n",
    "    headers={\n",
    "        \"Authorization\": f\"Bearer {access_token}\"\n",
    "    },\n",
    "    json={\n",
    "        \"accept-terms-of-use\": True,\n",
    "        # Optionally, we can override the name / type of the user:\n",
    "        # \"user-email\": \"user@example.com\",\n",
    "        # \"user-name\": \"Roald Amundsen\",\n",
    "        # \"user-type\": \"human\"\n",
    "    },\n",
    ")\n",
    "response.raise_for_status()"
   ]
  },
  {
   "cell_type": "markdown",
   "metadata": {},
   "source": [
    "## 3. Validate Bootstrap"
   ]
  },
  {
   "cell_type": "code",
   "execution_count": null,
   "metadata": {},
   "outputs": [],
   "source": [
    "# The server is now bootstrapped:\n",
    "response = requests.get(\n",
    "    url=f\"{MANAGEMENT_URL}/v1/info\",\n",
    "    headers={\"Authorization\": f\"Bearer {access_token}\"},\n",
    ")\n",
    "response.raise_for_status()\n",
    "response.json()"
   ]
  },
  {
   "cell_type": "code",
   "execution_count": null,
   "metadata": {},
   "outputs": [],
   "source": [
    "# An initial user was created\n",
    "response = requests.get(\n",
    "    url=f\"{MANAGEMENT_URL}/v1/user\",\n",
    "    headers={\"Authorization\": f\"Bearer {access_token}\"},\n",
    ")\n",
    "response.raise_for_status()\n",
    "response.json()"
   ]
  },
  {
   "cell_type": "code",
   "execution_count": null,
   "metadata": {},
   "outputs": [],
   "source": [
    "# This user is the global admin, which has all access rights to the server:\n",
    "response = requests.get(\n",
    "    url=f\"{MANAGEMENT_URL}/v1/permissions/server/access\",\n",
    "    headers={\"Authorization\": f\"Bearer {access_token}\"},\n",
    ")\n",
    "response.raise_for_status()\n",
    "response.json()"
   ]
  },
  {
   "cell_type": "code",
   "execution_count": null,
   "metadata": {},
   "outputs": [],
   "source": [
    "response = requests.get(\n",
    "    url=f\"{MANAGEMENT_URL}/v1/permissions/server/assignments\",\n",
    "    headers={\"Authorization\": f\"Bearer {access_token}\"},\n",
    ")\n",
    "response.raise_for_status()\n",
    "print(response.json())\n",
    "user_id = response.json()['assignments'][0]['user']"
   ]
  },
  {
   "cell_type": "code",
   "execution_count": null,
   "metadata": {},
   "outputs": [],
   "source": [
    "# Lets see who this user is:\n",
    "response = requests.get(\n",
    "    url=f\"{MANAGEMENT_URL}/v1/user/{user_id}\",\n",
    "    headers={\"Authorization\": f\"Bearer {access_token}\"},\n",
    ")\n",
    "response.raise_for_status()\n",
    "print(response.json())"
   ]
  }
 ],
 "metadata": {
  "kernelspec": {
   "display_name": "Python 3 (ipykernel)",
   "language": "python",
   "name": "python3"
  },
  "language_info": {
   "codemirror_mode": {
    "name": "ipython",
    "version": 3
   },
   "file_extension": ".py",
   "mimetype": "text/x-python",
   "name": "python",
   "nbconvert_exporter": "python",
   "pygments_lexer": "ipython3",
   "version": "3.11.10"
  }
 },
 "nbformat": 4,
 "nbformat_minor": 4
}
