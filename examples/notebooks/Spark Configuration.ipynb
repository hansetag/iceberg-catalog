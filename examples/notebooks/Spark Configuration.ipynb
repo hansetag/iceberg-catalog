{
 "cells": [
  {
   "cell_type": "code",
   "execution_count": 1,
   "metadata": {},
   "outputs": [],
   "source": [
    "import pyspark\n",
    "from pyspark.conf import SparkConf\n",
    "from pyspark.sql import SparkSession\n",
    "import pandas as pd\n",
    "\n",
    "CATALOG_URL = \"http://server:8080/catalog\"\n",
    "MANAGEMENT_URL = \"http://server:8080/management\"\n",
    "DEMO_WAREHOUSE = \"demo\"\n",
    "SPARK_VERSION = pyspark.__version__\n",
    "SPARK_MINOR_VERSION = '.'.join(SPARK_VERSION.split('.')[:2])\n",
    "ICEBERG_VERSION = \"1.5.2\"\n",
    "config = {\n",
    "    \"spark.sql.catalog.demo-catalog\": \"org.apache.iceberg.spark.SparkCatalog\",\n",
    "    \"spark.sql.catalog.demo-catalog.type\": \"rest\",\n",
    "    \"spark.sql.catalog.demo-catalog.uri\": CATALOG_URL,\n",
    "    \"spark.sql.catalog.demo-catalog.warehouse\": DEMO_WAREHOUSE,\n",
    "    \"spark.sql.catalog.demo-catalog.io-impl\": \"org.apache.iceberg.aws.s3.S3FileIO\",\n",
    "    \"spark.sql.extensions\": \"org.apache.iceberg.spark.extensions.IcebergSparkSessionExtensions\",\n",
    "    \"spark.sql.defaultCatalog\": \"demo-catalog\",\n",
    "    \"spark.jars.packages\": f\"org.apache.iceberg:iceberg-spark-runtime-{SPARK_MINOR_VERSION}_2.12:{ICEBERG_VERSION},org.apache.iceberg:iceberg-aws-bundle:{ICEBERG_VERSION}\"\n",
    "}\n",
    "spark_config = SparkConf().setMaster('local').setAppName(\"Iceberg-REST\")\n",
    "for k, v in config.items():\n",
    "    spark_config = spark_config.set(k, v)\n",
    "\n",
    "spark = SparkSession.builder.config(conf=spark_config).getOrCreate()"
   ]
  },
  {
   "cell_type": "markdown",
   "metadata": {},
   "source": [
    "## Read and Write Tables"
   ]
  },
  {
   "cell_type": "code",
   "execution_count": 2,
   "metadata": {},
   "outputs": [
    {
     "data": {
      "text/plain": [
       "DataFrame[]"
      ]
     },
     "execution_count": 2,
     "metadata": {},
     "output_type": "execute_result"
    }
   ],
   "source": [
    "spark.sql(\"CREATE NAMESPACE IF NOT EXISTS spark_demo\")"
   ]
  },
  {
   "cell_type": "code",
   "execution_count": 3,
   "metadata": {},
   "outputs": [
    {
     "data": {
      "text/html": [
       "<div>\n",
       "<style scoped>\n",
       "    .dataframe tbody tr th:only-of-type {\n",
       "        vertical-align: middle;\n",
       "    }\n",
       "\n",
       "    .dataframe tbody tr th {\n",
       "        vertical-align: top;\n",
       "    }\n",
       "\n",
       "    .dataframe thead th {\n",
       "        text-align: right;\n",
       "    }\n",
       "</style>\n",
       "<table border=\"1\" class=\"dataframe\">\n",
       "  <thead>\n",
       "    <tr style=\"text-align: right;\">\n",
       "      <th></th>\n",
       "      <th>namespace</th>\n",
       "    </tr>\n",
       "  </thead>\n",
       "  <tbody>\n",
       "    <tr>\n",
       "      <th>0</th>\n",
       "      <td>spark_demo</td>\n",
       "    </tr>\n",
       "  </tbody>\n",
       "</table>\n",
       "</div>"
      ],
      "text/plain": [
       "    namespace\n",
       "0  spark_demo"
      ]
     },
     "execution_count": 3,
     "metadata": {},
     "output_type": "execute_result"
    }
   ],
   "source": [
    "spark.sql(\"SHOW NAMESPACES\").toPandas()"
   ]
  },
  {
   "cell_type": "code",
   "execution_count": 4,
   "metadata": {},
   "outputs": [],
   "source": [
    "data = pd.DataFrame([[1, 'a-string', 2.2]], columns=['id', 'strings', 'floats'])\n",
    "sdf = spark.createDataFrame(data)"
   ]
  },
  {
   "cell_type": "code",
   "execution_count": 5,
   "metadata": {},
   "outputs": [],
   "source": [
    "sdf.writeTo(\"spark_demo.my_table\").createOrReplace()"
   ]
  },
  {
   "cell_type": "code",
   "execution_count": 2,
   "metadata": {},
   "outputs": [
    {
     "data": {
      "text/html": [
       "<div>\n",
       "<style scoped>\n",
       "    .dataframe tbody tr th:only-of-type {\n",
       "        vertical-align: middle;\n",
       "    }\n",
       "\n",
       "    .dataframe tbody tr th {\n",
       "        vertical-align: top;\n",
       "    }\n",
       "\n",
       "    .dataframe thead th {\n",
       "        text-align: right;\n",
       "    }\n",
       "</style>\n",
       "<table border=\"1\" class=\"dataframe\">\n",
       "  <thead>\n",
       "    <tr style=\"text-align: right;\">\n",
       "      <th></th>\n",
       "      <th>id</th>\n",
       "      <th>strings</th>\n",
       "      <th>floats</th>\n",
       "    </tr>\n",
       "  </thead>\n",
       "  <tbody>\n",
       "    <tr>\n",
       "      <th>0</th>\n",
       "      <td>1</td>\n",
       "      <td>a-string</td>\n",
       "      <td>2.2</td>\n",
       "    </tr>\n",
       "  </tbody>\n",
       "</table>\n",
       "</div>"
      ],
      "text/plain": [
       "   id   strings  floats\n",
       "0   1  a-string     2.2"
      ]
     },
     "execution_count": 2,
     "metadata": {},
     "output_type": "execute_result"
    }
   ],
   "source": [
    "spark.sql(\"SELECT * FROM spark_demo.my_table\").toPandas()"
   ]
  },
  {
   "cell_type": "code",
   "execution_count": 7,
   "metadata": {},
   "outputs": [
    {
     "data": {
      "text/plain": [
       "'[current-snapshot-id=5849667482925402855,format=iceberg/parquet,format-version=2]'"
      ]
     },
     "execution_count": 7,
     "metadata": {},
     "output_type": "execute_result"
    }
   ],
   "source": [
    "spark.sql(\"DESCRIBE EXTENDED spark_demo.my_table\").toPandas().iloc[17].data_type"
   ]
  },
  {
   "cell_type": "code",
   "execution_count": 8,
   "metadata": {},
   "outputs": [
    {
     "data": {
      "text/plain": [
       "DataFrame[]"
      ]
     },
     "execution_count": 8,
     "metadata": {},
     "output_type": "execute_result"
    }
   ],
   "source": [
    "spark.sql(\"create view spark_demo.myview4 as select id, strings from spark_demo.my_table\")"
   ]
  },
  {
   "cell_type": "code",
   "execution_count": 12,
   "metadata": {},
   "outputs": [
    {
     "data": {
      "text/html": [
       "<div>\n",
       "<style scoped>\n",
       "    .dataframe tbody tr th:only-of-type {\n",
       "        vertical-align: middle;\n",
       "    }\n",
       "\n",
       "    .dataframe tbody tr th {\n",
       "        vertical-align: top;\n",
       "    }\n",
       "\n",
       "    .dataframe thead th {\n",
       "        text-align: right;\n",
       "    }\n",
       "</style>\n",
       "<table border=\"1\" class=\"dataframe\">\n",
       "  <thead>\n",
       "    <tr style=\"text-align: right;\">\n",
       "      <th></th>\n",
       "      <th>id</th>\n",
       "    </tr>\n",
       "  </thead>\n",
       "  <tbody>\n",
       "    <tr>\n",
       "      <th>0</th>\n",
       "      <td>1</td>\n",
       "    </tr>\n",
       "  </tbody>\n",
       "</table>\n",
       "</div>"
      ],
      "text/plain": [
       "   id\n",
       "0   1"
      ]
     },
     "execution_count": 12,
     "metadata": {},
     "output_type": "execute_result"
    }
   ],
   "source": [
    "spark.sql(\"select * from  spark_demo.myview4\").toPandas()"
   ]
  },
  {
   "cell_type": "code",
   "execution_count": 10,
   "metadata": {},
   "outputs": [],
   "source": [
    "spark.sparkContext.setLogLevel(\"debug\")"
   ]
  },
  {
   "cell_type": "code",
   "execution_count": 11,
   "metadata": {},
   "outputs": [
    {
     "data": {
      "text/plain": [
       "DataFrame[]"
      ]
     },
     "execution_count": 11,
     "metadata": {},
     "output_type": "execute_result"
    }
   ],
   "source": [
    "spark.sql(\"CREATE OR REPLACE VIEW spark_demo.myview4 (id COMMENT 'id of thing') as select id from spark_demo.my_table\")"
   ]
  },
  {
   "cell_type": "code",
   "execution_count": 17,
   "metadata": {},
   "outputs": [
    {
     "data": {
      "text/html": [
       "<div>\n",
       "<style scoped>\n",
       "    .dataframe tbody tr th:only-of-type {\n",
       "        vertical-align: middle;\n",
       "    }\n",
       "\n",
       "    .dataframe tbody tr th {\n",
       "        vertical-align: top;\n",
       "    }\n",
       "\n",
       "    .dataframe thead th {\n",
       "        text-align: right;\n",
       "    }\n",
       "</style>\n",
       "<table border=\"1\" class=\"dataframe\">\n",
       "  <thead>\n",
       "    <tr style=\"text-align: right;\">\n",
       "      <th></th>\n",
       "      <th>namespace</th>\n",
       "      <th>viewName</th>\n",
       "      <th>isTemporary</th>\n",
       "    </tr>\n",
       "  </thead>\n",
       "  <tbody>\n",
       "    <tr>\n",
       "      <th>0</th>\n",
       "      <td>spark_demo</td>\n",
       "      <td>myview4</td>\n",
       "      <td>False</td>\n",
       "    </tr>\n",
       "  </tbody>\n",
       "</table>\n",
       "</div>"
      ],
      "text/plain": [
       "    namespace viewName  isTemporary\n",
       "0  spark_demo  myview4        False"
      ]
     },
     "execution_count": 17,
     "metadata": {},
     "output_type": "execute_result"
    }
   ],
   "source": [
    "spark.sql(\"SHOW VIEWS IN spark_demo\").toPandas()"
   ]
  },
  {
   "cell_type": "code",
   "execution_count": 19,
   "metadata": {},
   "outputs": [
    {
     "data": {
      "text/plain": [
       "DataFrame[]"
      ]
     },
     "execution_count": 19,
     "metadata": {},
     "output_type": "execute_result"
    }
   ],
   "source": [
    "spark.sql(\"DROP table spark_demo.my_table\")"
   ]
  },
  {
   "cell_type": "code",
   "execution_count": 16,
   "metadata": {},
   "outputs": [
    {
     "data": {
      "text/html": [
       "<div>\n",
       "<style scoped>\n",
       "    .dataframe tbody tr th:only-of-type {\n",
       "        vertical-align: middle;\n",
       "    }\n",
       "\n",
       "    .dataframe tbody tr th {\n",
       "        vertical-align: top;\n",
       "    }\n",
       "\n",
       "    .dataframe thead th {\n",
       "        text-align: right;\n",
       "    }\n",
       "</style>\n",
       "<table border=\"1\" class=\"dataframe\">\n",
       "  <thead>\n",
       "    <tr style=\"text-align: right;\">\n",
       "      <th></th>\n",
       "      <th>id</th>\n",
       "      <th>strings</th>\n",
       "    </tr>\n",
       "  </thead>\n",
       "  <tbody>\n",
       "    <tr>\n",
       "      <th>0</th>\n",
       "      <td>1</td>\n",
       "      <td>a-string</td>\n",
       "    </tr>\n",
       "  </tbody>\n",
       "</table>\n",
       "</div>"
      ],
      "text/plain": [
       "   id   strings\n",
       "0   1  a-string"
      ]
     },
     "execution_count": 16,
     "metadata": {},
     "output_type": "execute_result"
    }
   ],
   "source": [
    "spark.sql(\"select * from  spark_demo.myview3\").toPandas()"
   ]
  },
  {
   "cell_type": "code",
   "execution_count": 21,
   "metadata": {},
   "outputs": [
    {
     "data": {
      "text/plain": [
       "{'metadata-location': 's3://examples/initial-warehouse/27fe1f14-3521-11ef-89e3-236b78a91df0/01905dc6-5ef3-7ef3-a69b-7c802b2a7f5b/metadata/01905dc6-5ef3-7ef3-a69b-7c802b2a7f5b.gz.metadata.json',\n",
       " 'metadata': {'format-version': 1,\n",
       "  'view-uuid': '01905dc6-5ef3-7ef3-a69b-7c802b2a7f5b',\n",
       "  'location': 's3://examples/initial-warehouse/27fe1f14-3521-11ef-89e3-236b78a91df0/01905dc6-5ef3-7ef3-a69b-7c802b2a7f5b/metadata/01905dc6-5ef3-7ef3-a69b-7c802b2a7f5b.gz.metadata.json',\n",
       "  'current-version-id': 1,\n",
       "  'versions': [{'version-id': 1,\n",
       "    'schema-id': 0,\n",
       "    'timestamp-ms': 1719560199920,\n",
       "    'summary': {'engine-version': '3.5.1',\n",
       "     'engine-name': 'spark',\n",
       "     'iceberg-version': 'Apache Iceberg 1.5.2 (commit cbb853073e681b4075d7c8707610dceecbee3a82)',\n",
       "     'app-id': 'local-1719559068458'},\n",
       "    'representations': [{'type': 'sql',\n",
       "      'sql': \"select id, size from myns.parts where name = 'spring'\",\n",
       "      'dialect': 'spark'}],\n",
       "    'default-namespace': []}],\n",
       "  'version-log': [{'version-id': 1, 'timestamp-ms': 1719560199922}],\n",
       "  'schemas': [{'schema-id': 0,\n",
       "    'type': 'struct',\n",
       "    'fields': [{'id': 0, 'name': 'id', 'required': False, 'type': 'long'},\n",
       "     {'id': 1, 'name': 'size', 'required': False, 'type': 'double'}]}],\n",
       "  'properties': {'create_engine_version': 'Spark 3.5.1',\n",
       "   'engine_version': 'Spark 3.5.1',\n",
       "   'spark.query-column-names': 'id,size'}},\n",
       " 'config': {'s3.path-style-access': 'true',\n",
       "  's3.region': 'local-01',\n",
       "  'region': 'local-01',\n",
       "  'client.region': 'local-01',\n",
       "  's3.endpoint': 'http://minio:9000',\n",
       "  's3.remote-signing-enabled': 'true'}}"
      ]
     },
     "execution_count": 21,
     "metadata": {},
     "output_type": "execute_result"
    }
   ],
   "source": [
    "import requests\n",
    "spark.sql(\"CREATE NAMESPACE IF NOT EXISTS myns\")\n",
    "data = pd.DataFrame([[1, 'spring', 2.2]], columns=['id', 'name', 'size'])\n",
    "sdf = spark.createDataFrame(data)\n",
    "sdf.writeTo(\"myns.parts\").createOrReplace()\n",
    "spark.sql(\"create view if not exists myns.view_springs as select id, size from myns.parts where name = 'spring'\").toPandas()\n",
    "rr = requests.get(\"http://server:8080/catalog/v1/ab756a68-351d-11ef-92b0-0332564d8630/namespaces/myns/views/view_springs\")\n",
    "meta = rr.json()\n",
    "meta"
   ]
  },
  {
   "cell_type": "code",
   "execution_count": 22,
   "metadata": {},
   "outputs": [
    {
     "data": {
      "text/html": [
       "<div>\n",
       "<style scoped>\n",
       "    .dataframe tbody tr th:only-of-type {\n",
       "        vertical-align: middle;\n",
       "    }\n",
       "\n",
       "    .dataframe tbody tr th {\n",
       "        vertical-align: top;\n",
       "    }\n",
       "\n",
       "    .dataframe thead th {\n",
       "        text-align: right;\n",
       "    }\n",
       "</style>\n",
       "<table border=\"1\" class=\"dataframe\">\n",
       "  <thead>\n",
       "    <tr style=\"text-align: right;\">\n",
       "      <th></th>\n",
       "    </tr>\n",
       "  </thead>\n",
       "  <tbody>\n",
       "  </tbody>\n",
       "</table>\n",
       "</div>"
      ],
      "text/plain": [
       "Empty DataFrame\n",
       "Columns: []\n",
       "Index: []"
      ]
     },
     "execution_count": 22,
     "metadata": {},
     "output_type": "execute_result"
    }
   ],
   "source": [
    "spark.sql(\"create or replace view myns.view_springs as select id, name, size from myns.parts where name = 'spring'\").toPandas()"
   ]
  },
  {
   "cell_type": "code",
   "execution_count": 23,
   "metadata": {},
   "outputs": [
    {
     "data": {
      "text/plain": [
       "{'metadata-location': 's3://examples/initial-warehouse/27fe1f14-3521-11ef-89e3-236b78a91df0/01905dc6-5ef3-7ef3-a69b-7c802b2a7f5b/metadata/01905dc6-5ef3-7ef3-a69b-7c802b2a7f5b.gz.metadata.json',\n",
       " 'metadata': {'format-version': 1,\n",
       "  'view-uuid': '01905dc6-5ef3-7ef3-a69b-7c802b2a7f5b',\n",
       "  'location': 's3://examples/initial-warehouse/27fe1f14-3521-11ef-89e3-236b78a91df0/01905dc6-5ef3-7ef3-a69b-7c802b2a7f5b/metadata/01905dc6-dffe-73c3-a2ff-d48002895883.gz.metadata.json',\n",
       "  'current-version-id': 2,\n",
       "  'versions': [{'version-id': 2,\n",
       "    'schema-id': 1,\n",
       "    'timestamp-ms': 1719560232954,\n",
       "    'summary': {'engine-version': '3.5.1',\n",
       "     'app-id': 'local-1719559068458',\n",
       "     'iceberg-version': 'Apache Iceberg 1.5.2 (commit cbb853073e681b4075d7c8707610dceecbee3a82)',\n",
       "     'engine-name': 'spark'},\n",
       "    'representations': [{'type': 'sql',\n",
       "      'sql': \"select id, name, size from myns.parts where name = 'spring'\",\n",
       "      'dialect': 'spark'}],\n",
       "    'default-namespace': []},\n",
       "   {'version-id': 1,\n",
       "    'schema-id': 0,\n",
       "    'timestamp-ms': 1719560199920,\n",
       "    'summary': {'app-id': 'local-1719559068458',\n",
       "     'engine-version': '3.5.1',\n",
       "     'iceberg-version': 'Apache Iceberg 1.5.2 (commit cbb853073e681b4075d7c8707610dceecbee3a82)',\n",
       "     'engine-name': 'spark'},\n",
       "    'representations': [{'type': 'sql',\n",
       "      'sql': \"select id, size from myns.parts where name = 'spring'\",\n",
       "      'dialect': 'spark'}],\n",
       "    'default-namespace': []}],\n",
       "  'version-log': [{'version-id': 1, 'timestamp-ms': 1719560199922}],\n",
       "  'schemas': [{'schema-id': 1,\n",
       "    'type': 'struct',\n",
       "    'fields': [{'id': 0, 'name': 'id', 'required': False, 'type': 'long'},\n",
       "     {'id': 1, 'name': 'name', 'required': False, 'type': 'string'},\n",
       "     {'id': 2, 'name': 'size', 'required': False, 'type': 'double'}]},\n",
       "   {'schema-id': 0,\n",
       "    'type': 'struct',\n",
       "    'fields': [{'id': 0, 'name': 'id', 'required': False, 'type': 'long'},\n",
       "     {'id': 1, 'name': 'size', 'required': False, 'type': 'double'}]}],\n",
       "  'properties': {'spark.query-column-names': 'id,name,size',\n",
       "   'engine_version': 'Spark 3.5.1',\n",
       "   'create_engine_version': 'Spark 3.5.1'}},\n",
       " 'config': {'s3.region': 'local-01',\n",
       "  'region': 'local-01',\n",
       "  'client.region': 'local-01',\n",
       "  's3.endpoint': 'http://minio:9000',\n",
       "  's3.remote-signing-enabled': 'true',\n",
       "  's3.path-style-access': 'true'}}"
      ]
     },
     "execution_count": 23,
     "metadata": {},
     "output_type": "execute_result"
    }
   ],
   "source": [
    "rr = requests.get(\"http://server:8080/catalog/v1/ab756a68-351d-11ef-92b0-0332564d8630/namespaces/myns/views/view_springs\")\n",
    "meta = rr.json()\n",
    "meta"
   ]
  },
  {
   "cell_type": "code",
   "execution_count": null,
   "metadata": {},
   "outputs": [],
   "source": []
  }
 ],
 "metadata": {
  "kernelspec": {
   "display_name": "Python 3 (ipykernel)",
   "language": "python",
   "name": "python3"
  },
  "language_info": {
   "codemirror_mode": {
    "name": "ipython",
    "version": 3
   },
   "file_extension": ".py",
   "mimetype": "text/x-python",
   "name": "python",
   "nbconvert_exporter": "python",
   "pygments_lexer": "ipython3",
   "version": "3.11.9"
  }
 },
 "nbformat": 4,
 "nbformat_minor": 4
}
