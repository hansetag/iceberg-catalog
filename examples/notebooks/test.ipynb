{
 "cells": [
  {
   "cell_type": "code",
   "execution_count": null,
   "metadata": {},
   "outputs": [],
   "source": [
    "import pyspark\n",
    "from pyspark.conf import SparkConf\n",
    "from pyspark.sql import SparkSession\n",
    "\n",
    "CATALOG_URL = \"http://server:8080/catalog\"\n",
    "MANAGEMENT_URL = \"http://server:8080/management\"\n",
    "\n"
   ]
  },
  {
   "cell_type": "markdown",
   "metadata": {},
   "source": [
    "# Create a new Warehouse\n",
    "The iceberg-rest server can host multiple independent warehouses that are again grouped by projects. The overall structure looks like this:\n",
    "\n",
    "```\n",
    "<project-1-uuid>/\n",
    "├─ foo-warehouse\n",
    "├─ bar-warehouse\n",
    "<project-2-uuid>/\n",
    "├─ foo-warehouse\n",
    "├─ bas-warehouse\n",
    "  \n",
    "```\n",
    "\n"
   ]
  },
  {
   "cell_type": "code",
   "execution_count": null,
   "metadata": {},
   "outputs": [],
   "source": [
    "import requests\n",
    "\n",
    "create_request = {\n",
    "    \n",
    "}"
   ]
  },
  {
   "cell_type": "markdown",
   "metadata": {},
   "source": [
    "# Connect with Spark"
   ]
  },
  {
   "cell_type": "code",
   "execution_count": null,
   "metadata": {},
   "outputs": [],
   "source": [
    "config = {\n",
    "    \"spark.sql.catalog.sandbox\": \"org.apache.iceberg.spark.SparkCatalog\",\n",
    "    \"spark.sql.catalog.sandbox.type\": \"rest\",\n",
    "    \"spark.sql.catalog.sandbox.uri\": CATALOG_URL,\n",
    "    \"spark.sql.catalog.sandbox.default-namespace\": \"examples\",\n",
    "    \"spark.sql.catalog.sandbox.warehouse\": \"foo\"\n",
    "}\n"
   ]
  },
  {
   "cell_type": "code",
   "execution_count": null,
   "metadata": {},
   "outputs": [],
   "source": [
    "spark_config = SparkConf().setMaster('local').setAppName(\"Iceberg-REST\")\n",
    "for k, v in config.items():\n",
    "    spark_config = spark_config.set(k, v)\n",
    "\n",
    "spark = SparkSession.builder.config(conf=spark_config).getOrCreate()"
   ]
  },
  {
   "cell_type": "code",
   "execution_count": null,
   "metadata": {},
   "outputs": [],
   "source": []
  }
 ],
 "metadata": {
  "kernelspec": {
   "display_name": "py12",
   "language": "python",
   "name": "python3"
  },
  "language_info": {
   "name": "python",
   "version": "3.12.2"
  }
 },
 "nbformat": 4,
 "nbformat_minor": 2
}
